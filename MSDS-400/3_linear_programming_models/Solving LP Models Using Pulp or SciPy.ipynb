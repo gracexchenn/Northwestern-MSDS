{
 "cells": [
  {
   "cell_type": "markdown",
   "metadata": {},
   "source": [
    "# MSDS 400 Solving LP Models Using Pulp or SciPy"
   ]
  },
  {
   "cell_type": "markdown",
   "metadata": {},
   "source": [
    "**Maximize** \n",
    "z = 10x1 + 15x2 + 10x3 + 5x4\n",
    "\n",
    "**Subject to:**<br>\n",
    "x1 + x2 + x3 + x4 ≤ 300<br>\n",
    "x1 + 2x2 + 3x3 + x4 ≤ 360<br>\n",
    "x1 ≥ 0, x2 ≥ 0, x3 ≥ 0, x4 ≥ 0\n"
   ]
  },
  {
   "cell_type": "markdown",
   "metadata": {},
   "source": [
    "**Solution:**  Maximum is 3300 when x1 = 240, x2 = 60, x3 = 0, x4 = 0"
   ]
  },
  {
   "cell_type": "markdown",
   "metadata": {},
   "source": [
    "#### Python Code:\n",
    "** Note: ** *The optimize.linprog function minimizes the target function as a default. If the problem is a maximization one, convert it to minimize −f(x)*\n"
   ]
  },
  {
   "cell_type": "code",
   "execution_count": 12,
   "metadata": {},
   "outputs": [
    {
     "name": "stdout",
     "output_type": "stream",
     "text": [
      "Scipy Optimize Optimal value: -3300.0 \n",
      " x1, x2, x3, x4 : [240.  60.   0.   0.]\n",
      "\n",
      "\n"
     ]
    }
   ],
   "source": [
    "# Solution using linprog from Scipy.optimize\n",
    "# https://docs.scipy.org/doc/scipy-0.15.1/reference/generated/scipy.optimize.linprog.html\n",
    "\n",
    "from scipy.optimize import linprog\n",
    "\n",
    "# coefficients of objective function\n",
    "z = [-10, -15, -10, -5] \n",
    "\n",
    "# coefficients of the left-hand side of the inequalities\n",
    "lhs = [[1, 1, 1, 1], [1, 2, 3, 1]]\n",
    "\n",
    "# coefficients of the right-hand side of the inequalities\n",
    "rhs = [300, 360]\n",
    "\n",
    "# set the bounds for the variables\n",
    "x1_bounds = (0, None)\n",
    "x2_bounds = (0, None)\n",
    "x3_bounds = (0, None)\n",
    "x4_bounds = (0, None)\n",
    "\n",
    "method='simplex'\n",
    "\n",
    "res = linprog(c=z, A_ub=lhs, b_ub=rhs,  bounds=(x1_bounds,x2_bounds, x3_bounds, x4_bounds))\n",
    "\n",
    "# See scipy documentation for additional details about scipy.optimize.OptimizeResult \n",
    "# https://docs.scipy.org/doc/scipy-0.15.1/reference/generated/scipy.optimize.linprog.html\n",
    "\n",
    "# Print optimal values of x1, x2, x3 and x4 \n",
    "print('Scipy Optimize Optimal value:', res.fun, '\\n x1, x2, x3, x4 :', res.x)\n",
    "print('\\n')"
   ]
  },
  {
   "cell_type": "markdown",
   "metadata": {},
   "source": [
    "### Alternative Solution using Pulp Python package\n",
    "#### Note: The use of pulp to solve maximization/minimization problems is optional.\n",
    "#### ** Instructions for installing pulp package **\n",
    "##### http://pythonhosted.org/PuLP/main/installing_pulp_at_home.html\n",
    "\n"
   ]
  },
  {
   "cell_type": "code",
   "execution_count": 1,
   "metadata": {},
   "outputs": [
    {
     "name": "stdout",
     "output_type": "stream",
     "text": [
      "Collecting pulp\n",
      "  Downloading PuLP-2.6.0-py3-none-any.whl (14.2 MB)\n",
      "\u001b[K     |████████████████████████████████| 14.2 MB 790 kB/s eta 0:00:01    |████████████████▌               | 7.3 MB 700 kB/s eta 0:00:10\n",
      "\u001b[?25hInstalling collected packages: pulp\n",
      "Successfully installed pulp-2.6.0\n"
     ]
    }
   ],
   "source": [
    "!pip install pulp"
   ]
  },
  {
   "cell_type": "code",
   "execution_count": 13,
   "metadata": {},
   "outputs": [
    {
     "name": "stdout",
     "output_type": "stream",
     "text": [
      "Welcome to the CBC MILP Solver \n",
      "Version: 2.10.3 \n",
      "Build Date: Dec 15 2019 \n",
      "\n",
      "command line - /Users/gracechen/opt/anaconda3/lib/python3.9/site-packages/pulp/apis/../solverdir/cbc/osx/64/cbc /var/folders/_z/52v6jg695tv37_fqtsydq2xm0000gn/T/aca8d71e51224a31a75a6bb22ab775d7-pulp.mps max timeMode elapsed branch printingOptions all solution /var/folders/_z/52v6jg695tv37_fqtsydq2xm0000gn/T/aca8d71e51224a31a75a6bb22ab775d7-pulp.sol (default strategy 1)\n",
      "At line 2 NAME          MODEL\n",
      "At line 3 ROWS\n",
      "At line 8 COLUMNS\n",
      "At line 20 RHS\n",
      "At line 24 BOUNDS\n",
      "At line 25 ENDATA\n",
      "Problem MODEL has 3 rows, 3 columns and 8 elements\n",
      "Coin0008I MODEL read with 0 errors\n",
      "Option for timeMode changed from cpu to elapsed\n",
      "Presolve thinks problem is unbounded\n",
      "Analysis indicates model infeasible or unbounded\n",
      "0  Obj -0 Primal inf 9000 (1) Dual inf 0.5499997 (3)\n",
      "0  Obj -0 Primal inf 9000 (1) Dual inf 3e+10 (3)\n",
      "3  Obj 1606.5 Dual inf 0.1784999 (1)\n",
      "3  Obj 1606.5 Dual inf 0.1784999 (1)\n",
      "Dual infeasible - objective value 1606.5\n",
      "DualInfeasible objective 1606.5 - 3 iterations time 0.002\n",
      "\n",
      "Result - Linear relaxation unbounded\n",
      "\n",
      "Enumerated nodes:           0\n",
      "Total iterations:           0\n",
      "Time (CPU seconds):         0.00\n",
      "Time (Wallclock Seconds):   0.00\n",
      "\n",
      "Option for printingOptions changed from normal to all\n",
      "Total time (CPU seconds):       0.00   (Wallclock seconds):       0.00\n",
      "\n",
      "Pulp Solution for x1, x2, x3 and x4\n",
      "2250.0\n",
      "4050.0\n",
      "2700.0\n"
     ]
    }
   ],
   "source": [
    "from pulp import LpVariable, LpProblem, LpMaximize, LpStatus, value, LpMinimize\n",
    "\n",
    "# declare your variables\n",
    "x1 = LpVariable(\"x1\", 0, None) # x1>=0\n",
    "x2 = LpVariable(\"x2\", 0, None) # x2>=0\n",
    "x3 = LpVariable(\"x3\", 0, None) # x3>=0\n",
    "\n",
    "\n",
    "# defines the problem\n",
    "prob = LpProblem(\"problem\", LpMaximize)\n",
    "\n",
    "# defines the constraints\n",
    "prob += x1 + x2 + x3 >= 9000\n",
    "prob += -2*x2 + 3*x3 <= 0\n",
    "prob += 3*x1 - x2 - x3 >= 0\n",
    "\n",
    "# defines the objective function to maximize\n",
    "prob += 0.12*x1 + 0.13*x2+ 0.3*x3 \n",
    "\n",
    "# solve the problem\n",
    "status = prob.solve()\n",
    "LpStatus[status]\n",
    "\n",
    "# print the results\n",
    "print(\"Pulp Solution for x1, x2, x3 and x4\")\n",
    "print(value(x1))\n",
    "print(value(x2))\n",
    "print(value(x3))\n",
    "# print(value(x4))"
   ]
  },
  {
   "cell_type": "code",
   "execution_count": 1,
   "metadata": {},
   "outputs": [
    {
     "name": "stdout",
     "output_type": "stream",
     "text": [
      "Welcome to the CBC MILP Solver \n",
      "Version: 2.10.3 \n",
      "Build Date: Dec 15 2019 \n",
      "\n",
      "command line - /Users/gracechen/opt/anaconda3/lib/python3.9/site-packages/pulp/apis/../solverdir/cbc/osx/64/cbc /var/folders/_z/52v6jg695tv37_fqtsydq2xm0000gn/T/766ffbd023624e8e94ee67a06bbdaec7-pulp.mps timeMode elapsed branch printingOptions all solution /var/folders/_z/52v6jg695tv37_fqtsydq2xm0000gn/T/766ffbd023624e8e94ee67a06bbdaec7-pulp.sol (default strategy 1)\n",
      "At line 2 NAME          MODEL\n",
      "At line 3 ROWS\n",
      "At line 8 COLUMNS\n",
      "At line 20 RHS\n",
      "At line 24 BOUNDS\n",
      "At line 25 ENDATA\n",
      "Problem MODEL has 3 rows, 3 columns and 8 elements\n",
      "Coin0008I MODEL read with 0 errors\n",
      "Option for timeMode changed from cpu to elapsed\n",
      "Presolve 3 (0) rows, 3 (0) columns and 8 (0) elements\n",
      "0  Obj 0 Primal inf 8.9999997 (3)\n",
      "2  Obj 12\n",
      "Optimal - objective value 12\n",
      "Optimal objective 12 - 2 iterations time 0.002\n",
      "Option for printingOptions changed from normal to all\n",
      "Total time (CPU seconds):       0.00   (Wallclock seconds):       0.02\n",
      "\n",
      "Pulp Solution for x1, x2, x3\n",
      "0.0\n",
      "0.0\n",
      "12.0\n"
     ]
    }
   ],
   "source": [
    "from pulp import LpVariable, LpProblem, LpMaximize, LpStatus, value, LpMinimize\n",
    "\n",
    "# declare your variables\n",
    "x1 = LpVariable(\"x1\", 0, None) # x1>=0\n",
    "x2 = LpVariable(\"x2\", 0, None) # x2>=0\n",
    "x3 = LpVariable(\"x3\", 0, None) # x3>=0\n",
    "\n",
    "# defines the problem\n",
    "prob = LpProblem(\"problem\", LpMinimize)\n",
    "\n",
    "# defines the constraints\n",
    "prob += 4*x1 + x2 + 10*x3 >= 10\n",
    "prob += 3*x1 + 2*x2 + 1*x3>= 12\n",
    "prob += 4*x2 + 5*x3 >= 20\n",
    "\n",
    "# defines the objective function to maximize\n",
    "prob += 6*x1 + 8*x2 + x3\n",
    "\n",
    "# solve the problem\n",
    "status = prob.solve()\n",
    "LpStatus[status]\n",
    "\n",
    "# print the results\n",
    "print(\"Pulp Solution for x1, x2, x3\")\n",
    "print(value(x1))\n",
    "print(value(x2))\n",
    "print(value(x3))"
   ]
  },
  {
   "cell_type": "code",
   "execution_count": 3,
   "metadata": {},
   "outputs": [
    {
     "name": "stdout",
     "output_type": "stream",
     "text": [
      "Welcome to the CBC MILP Solver \n",
      "Version: 2.10.3 \n",
      "Build Date: Dec 15 2019 \n",
      "\n",
      "command line - /Users/gracechen/opt/anaconda3/lib/python3.9/site-packages/pulp/apis/../solverdir/cbc/osx/64/cbc /var/folders/_z/52v6jg695tv37_fqtsydq2xm0000gn/T/48878e4b4d994c4aa489987e3e4e91e1-pulp.mps timeMode elapsed branch printingOptions all solution /var/folders/_z/52v6jg695tv37_fqtsydq2xm0000gn/T/48878e4b4d994c4aa489987e3e4e91e1-pulp.sol (default strategy 1)\n",
      "At line 2 NAME          MODEL\n",
      "At line 3 ROWS\n",
      "At line 8 COLUMNS\n",
      "At line 20 RHS\n",
      "At line 24 BOUNDS\n",
      "At line 25 ENDATA\n",
      "Problem MODEL has 3 rows, 3 columns and 8 elements\n",
      "Coin0008I MODEL read with 0 errors\n",
      "Option for timeMode changed from cpu to elapsed\n",
      "Presolve 3 (0) rows, 3 (0) columns and 8 (0) elements\n",
      "0  Obj 0 Primal inf 8.9999997 (3)\n",
      "2  Obj 12\n",
      "Optimal - objective value 12\n",
      "Optimal objective 12 - 2 iterations time 0.002\n",
      "Option for printingOptions changed from normal to all\n",
      "Total time (CPU seconds):       0.00   (Wallclock seconds):       0.00\n",
      "\n",
      "Pulp Solution for x1, x2, x3\n",
      "0.0\n",
      "0.0\n",
      "12.0\n"
     ]
    }
   ],
   "source": [
    "from pulp import LpVariable, LpProblem, LpMaximize, LpStatus, value, LpMinimize\n",
    "\n",
    "# declare your variables\n",
    "x1 = LpVariable(\"x1\", 0, None) # x1>=0\n",
    "x2 = LpVariable(\"x2\", 0, None) # x2>=0\n",
    "x3 = LpVariable(\"x3\", 0, None) # x3>=0\n",
    "\n",
    "# defines the problem\n",
    "prob = LpProblem(\"problem\", LpMinimize)\n",
    "\n",
    "# defines the constraints\n",
    "prob += 4*x1 + 1*x2 + 10*x3 >= 10\n",
    "prob += 3*x1 + 2*x2 + x3 >= 12\n",
    "prob += 4*x2 + 5*x3 >= 20\n",
    "\n",
    "# defines the objective function to maximize\n",
    "prob += 6*x1 + 8*x2 + x3\n",
    "\n",
    "# solve the problem\n",
    "status = prob.solve()\n",
    "LpStatus[status]\n",
    "\n",
    "# print the results\n",
    "print(\"Pulp Solution for x1, x2, x3\")\n",
    "print(value(x1))\n",
    "print(value(x2))\n",
    "print(value(x3))"
   ]
  },
  {
   "cell_type": "code",
   "execution_count": 30,
   "metadata": {},
   "outputs": [
    {
     "name": "stdout",
     "output_type": "stream",
     "text": [
      "Welcome to the CBC MILP Solver \n",
      "Version: 2.10.3 \n",
      "Build Date: Dec 15 2019 \n",
      "\n",
      "command line - /Users/gracechen/opt/anaconda3/lib/python3.9/site-packages/pulp/apis/../solverdir/cbc/osx/64/cbc /var/folders/_z/52v6jg695tv37_fqtsydq2xm0000gn/T/5e5af8dac8b84d4e810d2a81451fe9f1-pulp.mps timeMode elapsed branch printingOptions all solution /var/folders/_z/52v6jg695tv37_fqtsydq2xm0000gn/T/5e5af8dac8b84d4e810d2a81451fe9f1-pulp.sol (default strategy 1)\n",
      "At line 2 NAME          MODEL\n",
      "At line 3 ROWS\n",
      "At line 8 COLUMNS\n",
      "At line 18 RHS\n",
      "At line 22 BOUNDS\n",
      "At line 24 ENDATA\n",
      "Problem MODEL has 3 rows, 5 columns and 8 elements\n",
      "Coin0008I MODEL read with 0 errors\n",
      "Option for timeMode changed from cpu to elapsed\n",
      "Presolve 0 (-3) rows, 0 (-5) columns and 0 (-8) elements\n",
      "Empty problem - 0 rows, 0 columns and 0 elements\n",
      "Optimal - objective value 0\n",
      "After Postsolve, objective 0, infeasibilities - dual 0 (0), primal 0 (0)\n",
      "Optimal objective 0 - 0 iterations time 0.002, Presolve 0.00\n",
      "Option for printingOptions changed from normal to all\n",
      "Total time (CPU seconds):       0.00   (Wallclock seconds):       0.00\n",
      "\n",
      "Pulp Solution for x1, x2, x3, x4\n",
      "220.0\n",
      "55.0\n",
      "0.0\n",
      "0.0\n"
     ]
    }
   ],
   "source": [
    "from pulp import LpVariable, LpProblem, LpMaximize, LpStatus, value, LpMinimize\n",
    "\n",
    "# declare your variables\n",
    "x1 = LpVariable(\"x1\", 0, None) # x1>=0\n",
    "x2 = LpVariable(\"x2\", 0, None) # x2>=0\n",
    "x3 = LpVariable(\"x3\", 0, None) # x3>=0\n",
    "x4 = LpVariable(\"x4\", 0, None) # x3>=0\n",
    "\n",
    "# defines the problem\n",
    "prob = LpProblem(\"problem\", LpMinimize)\n",
    "\n",
    "# defines the constraints\n",
    "prob += x1 - 4* x2 == 0\n",
    "prob += x3 - 5* x4 == 0\n",
    "\n",
    "# defines the objective function to maximize\n",
    "prob += x1 + x2 + x3 + x4 == 275\n",
    "\n",
    "# solve the problem\n",
    "status = prob.solve()\n",
    "LpStatus[status]\n",
    "\n",
    "# print the results\n",
    "print(\"Pulp Solution for x1, x2, x3, x4\")\n",
    "print(value(x1))\n",
    "print(value(x2))\n",
    "print(value(x3))\n",
    "print(value(x4))"
   ]
  },
  {
   "cell_type": "markdown",
   "metadata": {},
   "source": [
    "#### Example 2: \n",
    "**Minimize** \n",
    "w = 22y1 + 44y2 + 33y3\n",
    "\n",
    "**Subject to:**<br>\n",
    "y1 + 2y2 + y3 ≥ 3<br> \n",
    "y1 + y3 ≥ 3<br> \n",
    "3y1 + 2y2 + 2y3 ≥ 8<br>\n",
    "y1 ≥ 0, y2 ≥ 0, y3 ≥ 0"
   ]
  },
  {
   "cell_type": "code",
   "execution_count": 14,
   "metadata": {},
   "outputs": [
    {
     "name": "stdout",
     "output_type": "stream",
     "text": [
      "\n",
      "\n",
      "Scipy Optimize Optimal value: 66.0 \n",
      " y1, y2, y3: [3. 0. 0.]\n",
      "\n",
      "\n"
     ]
    }
   ],
   "source": [
    "from scipy.optimize import linprog\n",
    "\n",
    "w = [22, 44, 33] \n",
    "lhs = [[-1, -2, -1], [-1, 0,-1],[-3, -2, -2]]\n",
    "rhs = [-3, -3, -8]\n",
    "y1_bounds = (0, None)\n",
    "y2_bounds = (0, None)\n",
    "y3_bounds = (0, None)\n",
    "\n",
    "res = linprog(c=w, A_ub=lhs, b_ub=rhs, \n",
    "bounds=(y1_bounds,y2_bounds, y3_bounds))\n",
    "print('\\n')\n",
    "print('Scipy Optimize Optimal value:', res.fun, '\\n y1, y2, y3:', res.x)\n",
    "print('\\n')"
   ]
  },
  {
   "cell_type": "markdown",
   "metadata": {},
   "source": [
    "### Alternative Solution using Pulp Python package\n",
    "#### Note: The use of pulp to solve maximization/minimization problems is optional."
   ]
  },
  {
   "cell_type": "code",
   "execution_count": 15,
   "metadata": {},
   "outputs": [
    {
     "name": "stdout",
     "output_type": "stream",
     "text": [
      "Pulp Solutions for y1, y2, and y3\n",
      "3.0\n",
      "0.0\n",
      "0.0\n"
     ]
    }
   ],
   "source": [
    "from pulp import LpVariable, LpProblem, LpMaximize, LpStatus, value, LpMinimize\n",
    "\n",
    "# declare your variables\n",
    "y1 = LpVariable(\"y1\", 0, None) # y1>=0\n",
    "y2 = LpVariable(\"y2\", 0, None) # y2>=0\n",
    "y3 = LpVariable(\"y3\", 0, None) # y3>=0\n",
    "# defines the problem\n",
    "prob = LpProblem(\"problem\", LpMinimize)\n",
    "# defines the constraints\n",
    "prob += y1 + 2*y2 + y3 >= 3\n",
    "prob += y1 + y3 >= 3\n",
    "prob += 3*y1 + 2*y2 + 2*y3 >= 8\n",
    "\n",
    "# defines the objective function to maximize\n",
    "prob += 22*y1 + 44*y2+ 33*y3\n",
    "# solve the problem\n",
    "status = prob.solve()\n",
    "LpStatus[status]\n",
    "# print the results\n",
    "print(\"Pulp Solutions for y1, y2, and y3\")\n",
    "print(value(y1))\n",
    "print(value(y2))\n",
    "print(value(y3))\n"
   ]
  }
 ],
 "metadata": {
  "kernelspec": {
   "display_name": "Python 3 (ipykernel)",
   "language": "python",
   "name": "python3"
  },
  "language_info": {
   "codemirror_mode": {
    "name": "ipython",
    "version": 3
   },
   "file_extension": ".py",
   "mimetype": "text/x-python",
   "name": "python",
   "nbconvert_exporter": "python",
   "pygments_lexer": "ipython3",
   "version": "3.9.7"
  },
  "varInspector": {
   "cols": {
    "lenName": 16,
    "lenType": 16,
    "lenVar": 40
   },
   "kernels_config": {
    "python": {
     "delete_cmd_postfix": "",
     "delete_cmd_prefix": "del ",
     "library": "var_list.py",
     "varRefreshCmd": "print(var_dic_list())"
    },
    "r": {
     "delete_cmd_postfix": ") ",
     "delete_cmd_prefix": "rm(",
     "library": "var_list.r",
     "varRefreshCmd": "cat(var_dic_list()) "
    }
   },
   "types_to_exclude": [
    "module",
    "function",
    "builtin_function_or_method",
    "instance",
    "_Feature"
   ],
   "window_display": false
  }
 },
 "nbformat": 4,
 "nbformat_minor": 1
}
